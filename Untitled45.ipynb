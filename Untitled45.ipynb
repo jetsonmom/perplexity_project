{
  "nbformat": 4,
  "nbformat_minor": 0,
  "metadata": {
    "colab": {
      "private_outputs": true,
      "provenance": [],
      "authorship_tag": "ABX9TyNBsQPmIZR36T1K3Zs87Nv1",
      "include_colab_link": true
    },
    "kernelspec": {
      "name": "python3",
      "display_name": "Python 3"
    },
    "language_info": {
      "name": "python"
    }
  },
  "cells": [
    {
      "cell_type": "markdown",
      "metadata": {
        "id": "view-in-github",
        "colab_type": "text"
      },
      "source": [
        "<a href=\"https://colab.research.google.com/github/jetsonmom/perplexity_project/blob/main/Untitled45.ipynb\" target=\"_parent\"><img src=\"https://colab.research.google.com/assets/colab-badge.svg\" alt=\"Open In Colab\"/></a>"
      ]
    },
    {
      "cell_type": "markdown",
      "source": [
        "교통표지판 데이터 크롤링"
      ],
      "metadata": {
        "id": "nap5JOjkSAtb"
      }
    },
    {
      "cell_type": "code",
      "execution_count": null,
      "metadata": {
        "id": "Hw6WrIz4P8pX"
      },
      "outputs": [],
      "source": [
        "!pip install requests beautifulsoup4 Pillow\n"
      ]
    },
    {
      "cell_type": "code",
      "source": [
        "   import requests\n",
        "   from bs4 import BeautifulSoup\n",
        "   import os\n",
        "   from PIL import Image\n",
        "   from io import BytesIO\n",
        "   from google.colab import files\n"
      ],
      "metadata": {
        "id": "FBRAbGq7SHNz"
      },
      "execution_count": null,
      "outputs": []
    },
    {
      "cell_type": "code",
      "source": [],
      "metadata": {
        "id": "vxVq9jhzSJ4o"
      },
      "execution_count": null,
      "outputs": []
    },
    {
      "cell_type": "code",
      "source": [
        "# 검색어 리스트\n",
        "search_terms = ['속도제한', '횡단보도', '과속방지턱', '어린이보호', '도로공사중', '자전거', '상습정체구간', '직진금지', '진입금지', '주정차금지', '차높이제한']\n",
        "\n",
        "for search_term in search_terms:\n",
        "    # 이미지를 저장할 폴더 생성\n",
        "    if not os.path.exists(search_term):\n",
        "        os.makedirs(search_term)\n",
        "\n",
        "    # Google 이미지 검색 URL\n",
        "    url = f\"https://www.google.com/search?q={search_term}&tbm=isch\"\n",
        "\n",
        "    # 웹 페이지 가져오기\n",
        "    response = requests.get(url)\n",
        "    soup = BeautifulSoup(response.text, 'html.parser')\n",
        "\n",
        "    # 이미지 태그 찾기\n",
        "    img_tags = soup.find_all('img')\n",
        "\n",
        "    # 이미지 다운로드\n",
        "    for i, img in enumerate(img_tags):\n",
        "        try:\n",
        "            img_url = img['src']\n",
        "            if img_url.startswith('http'):\n",
        "                img_data = requests.get(img_url).content\n",
        "                img = Image.open(BytesIO(img_data))\n",
        "                img.save(f\"{search_term}/{search_term}_{i}.jpg\")\n",
        "                print(f\"Downloaded: {search_term}_{i}.jpg\")\n",
        "        except:\n",
        "            print(f\"Error downloading image {i}\")\n",
        "\n",
        "    print(f\"Crawling completed for {search_term}!\")\n",
        "\n",
        "    # 다운로드한 이미지들을 zip 파일로 압축\n",
        "    !zip -r {search_term}.zip {search_term}\n",
        "\n",
        "    # zip 파일 다운로드\n",
        "    from google.colab import files\n",
        "    files.download(f\"{search_term}.zip\")"
      ],
      "metadata": {
        "id": "Qy9Of_XyVC4k"
      },
      "execution_count": null,
      "outputs": []
    }
  ]
}