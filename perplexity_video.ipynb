{
  "nbformat": 4,
  "nbformat_minor": 0,
  "metadata": {
    "colab": {
      "private_outputs": true,
      "provenance": [],
      "authorship_tag": "ABX9TyMW9sGgCEdKy9sAyOqxJOMH",
      "include_colab_link": true
    },
    "kernelspec": {
      "name": "python3",
      "display_name": "Python 3"
    },
    "language_info": {
      "name": "python"
    }
  },
  "cells": [
    {
      "cell_type": "markdown",
      "metadata": {
        "id": "view-in-github",
        "colab_type": "text"
      },
      "source": [
        "<a href=\"https://colab.research.google.com/github/jetsonmom/perplexity_project/blob/main/perplexity_video.ipynb\" target=\"_parent\"><img src=\"https://colab.research.google.com/assets/colab-badge.svg\" alt=\"Open In Colab\"/></a>"
      ]
    },
    {
      "cell_type": "markdown",
      "source": [
        "새 Colab 노트북을 엽니다.\n",
        "필요한 라이브러리를 설치합니다:"
      ],
      "metadata": {
        "id": "r8foPiqGqBP0"
      }
    },
    {
      "cell_type": "markdown",
      "source": [
        "step1 필요한 라이브러리를 설치\n",
        "2번 라이브러리는 주로 서버 환경이나 GUI가 필요 없는 환경에서 사용됩니다"
      ],
      "metadata": {
        "id": "bbI7V-n6INVy"
      }
    },
    {
      "cell_type": "code",
      "execution_count": null,
      "metadata": {
        "id": "JwuHbNoep9Kp"
      },
      "outputs": [],
      "source": [
        "!pip install ultralytics\n",
        "!pip install opencv-python-headless\n",
        "!pip install ultralytics opencv-python-headless pytube"
      ]
    },
    {
      "cell_type": "markdown",
      "source": [
        "step 2. 필요한 라이브러리를 임포트합니다:"
      ],
      "metadata": {
        "id": "Of2Z72uiqH1T"
      }
    },
    {
      "cell_type": "code",
      "source": [
        "\n",
        "from ultralytics import YOLO\n",
        "import cv2\n",
        "from google.colab.patches import cv2_imshow\n",
        "from google.colab import files\n",
        "import io\n",
        "import numpy as np\n"
      ],
      "metadata": {
        "id": "wnz6eQrqqTFQ"
      },
      "execution_count": null,
      "outputs": []
    },
    {
      "cell_type": "markdown",
      "source": [
        "step 2. 유튜브에서 가지고 올때"
      ],
      "metadata": {
        "id": "K7TPBRTUq21p"
      }
    },
    {
      "cell_type": "code",
      "source": [
        "!pip install pytube\n",
        "!pip install --upgrade pytube\n"
      ],
      "metadata": {
        "id": "RnkzPdTXq_Ea"
      },
      "execution_count": null,
      "outputs": []
    },
    {
      "cell_type": "markdown",
      "source": [
        "YouTube 동영상을 다운로드하는 과정\n",
        "\n",
        "1. `yt-dlp` 라이브러리를 설치합니다[1].\n",
        "\n",
        "2. `yt_dlp` 모듈을 가져옵니다[1].\n",
        "\n",
        "3. 다운로드 옵션을 설정합니다:\n",
        "   - `'outtmpl': '%(title)s.%(ext)s'`: 다운로드된 파일의 이름을 동영상 제목과 확장자로 지정합니다[1].\n",
        "\n",
        "4. `yt_dlp.YoutubeDL()` 객체를 생성하고 `with` 문을 사용하여 컨텍스트 관리합니다[1].\n",
        "\n",
        "5. `ydl.download()` 메서드를 호출하여 지정된 YouTube 쇼츠 URL에서 동영상을 다운로드합니다[1].\n",
        "\n",
        "이 코드를 실행하면 지정된 YouTube 쇼츠 동영상이 현재 디렉토리에 다운로드됩니다[1].\n",
        "\n",
        "Citations:\n",
        "[1] https://www.youtube.com/shorts/VznzSxEzWbc"
      ],
      "metadata": {
        "id": "YQNZP7vlJFQp"
      }
    },
    {
      "cell_type": "code",
      "source": [
        "!pip install yt-dlp\n",
        "import yt_dlp\n",
        "\n",
        "ydl_opts = {'outtmpl': '%(title)s.%(ext)s'}\n",
        "with yt_dlp.YoutubeDL(ydl_opts) as ydl:\n",
        "    ydl.download([\"https://www.youtube.com/shorts/VznzSxEzWbc\"])\n"
      ],
      "metadata": {
        "id": "khKiL8S5xT3Z"
      },
      "execution_count": null,
      "outputs": []
    },
    {
      "cell_type": "code",
      "source": [
        "# YOLOv8 모델 로드\n",
        "model = YOLO('yolov8x.pt')  # yolov8n.pt 파일이 Colab 환경에 있어야 합니다.\n",
        "# 영상 파일 경로 지정\n",
        "video_path = \"/content/[김연경] 241210 흥국생명 vs 페퍼저축은행 기가막히게 득점하는 김연경 #김연경 #배구 #여자배구 #volleyball #kimyeonkoung.webm\"  # 실제 영상 파일 경로로 변경하세요\n",
        "# 영상 파일 열기\n",
        "cap = cv2.VideoCapture(video_path)\n",
        "\n",
        "# 결과 영상 저장 설정\n",
        "fourcc = cv2.VideoWriter_fourcc(*'mp4v')\n",
        "out = cv2.VideoWriter('output.mp4', fourcc, 30.0, (int(cap.get(3)), int(cap.get(4))))\n",
        "\n",
        "# 영상 처리\n",
        "while cap.isOpened():\n",
        "    success, frame = cap.read()\n",
        "    if success:\n",
        "        # YOLOv8로 프레임 분석\n",
        "        results = model(frame)\n",
        "\n",
        "        # 결과 시각화\n",
        "        annotated_frame = results[0].plot()\n",
        "\n",
        "        # 결과 프레임 저장\n",
        "        out.write(annotated_frame)\n",
        "\n",
        "        # 20프레임마다 결과 표시 (선택사항)\n",
        "        if cap.get(cv2.CAP_PROP_POS_FRAMES) % 20 == 0:\n",
        "            cv2_imshow(annotated_frame)\n",
        "    else:\n",
        "        break\n",
        "\n",
        "# 리소스 해제\n",
        "cap.release()\n",
        "out.release()\n",
        "from google.colab import files\n",
        "\n",
        "# 결과 영상 다운로드\n",
        "files.download('output.mp4')\n",
        "\n"
      ],
      "metadata": {
        "id": "1NYuTdVWyD1T"
      },
      "execution_count": null,
      "outputs": []
    }
  ]
}