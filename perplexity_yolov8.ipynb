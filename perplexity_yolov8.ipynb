{
  "nbformat": 4,
  "nbformat_minor": 0,
  "metadata": {
    "colab": {
      "private_outputs": true,
      "provenance": [],
      "authorship_tag": "ABX9TyPNoCPUBcyLojwCZawpd/lm",
      "include_colab_link": true
    },
    "kernelspec": {
      "name": "python3",
      "display_name": "Python 3"
    },
    "language_info": {
      "name": "python"
    }
  },
  "cells": [
    {
      "cell_type": "markdown",
      "metadata": {
        "id": "view-in-github",
        "colab_type": "text"
      },
      "source": [
        "<a href=\"https://colab.research.google.com/github/jetsonmom/perplexity_project/blob/main/perplexity_yolov8.ipynb\" target=\"_parent\"><img src=\"https://colab.research.google.com/assets/colab-badge.svg\" alt=\"Open In Colab\"/></a>"
      ]
    },
    {
      "cell_type": "markdown",
      "source": [
        "경로가 중요합니다. 경로 설명하기\n",
        "file을 누르면 content등이 있습니다."
      ],
      "metadata": {
        "id": "oYhxGWv2V0ex"
      }
    },
    {
      "cell_type": "code",
      "execution_count": null,
      "metadata": {
        "id": "apTThozIVlKG"
      },
      "outputs": [],
      "source": [
        "from google.colab import drive\n",
        "drive.mount('/content/drive')\n"
      ]
    },
    {
      "cell_type": "markdown",
      "source": [
        "!는 코랩의 ipython에서 사용하는 기호입니다.\n",
        "yolov8을 만든 ultralytics를 설치해줍니다."
      ],
      "metadata": {
        "id": "Lg6YkYReWbv_"
      }
    },
    {
      "cell_type": "code",
      "source": [
        "!pip install ultralytics"
      ],
      "metadata": {
        "id": "y2ees9h6WlbR"
      },
      "execution_count": null,
      "outputs": []
    },
    {
      "cell_type": "markdown",
      "source": [
        "필요한 라이브러리 임포트:"
      ],
      "metadata": {
        "id": "FL6G5LELW-Gs"
      }
    },
    {
      "cell_type": "code",
      "source": [
        "from ultralytics import YOLO\n",
        "import cv2\n",
        "from google.colab.patches import cv2_imshow\n",
        "import urllib.request\n"
      ],
      "metadata": {
        "id": "q4qb_AMsXEsh"
      },
      "execution_count": null,
      "outputs": []
    },
    {
      "cell_type": "markdown",
      "source": [],
      "metadata": {
        "id": "xB6EenSRbLA7"
      }
    },
    {
      "cell_type": "markdown",
      "source": [],
      "metadata": {
        "id": "Dpr2qXHjbK-h"
      }
    },
    {
      "cell_type": "markdown",
      "source": [
        "사전 훈련된 YOLOv8 모델 다운로드\n",
        "content 밑에 yolov8.pt파일이 생겼습니다.\n",
        "그러나 사람과 차만 인식합니다.\n",
        "predefined모델을 좀 더 큰 사이즈로 바꿉니다.\n",
        ":\n"
      ],
      "metadata": {
        "id": "41XFJi6TXTz5"
      }
    },
    {
      "cell_type": "code",
      "source": [
        "model = YOLO('yolov8n.pt')"
      ],
      "metadata": {
        "id": "lt5b5ZxfXWwF"
      },
      "execution_count": null,
      "outputs": []
    },
    {
      "cell_type": "markdown",
      "source": [
        "인터넷에서 차도 사진 가져오기:\n",
        "원하는 차도 사진 URL로 변경\n",
        "\n"
      ],
      "metadata": {
        "id": "8hC3cTGdXoto"
      }
    },
    {
      "cell_type": "code",
      "source": [
        "url = 'https://search.pstatic.net/common/?src=http%3A%2F%2Fblogfiles.naver.net%2FMjAxNzAxMjhfMjkx%2FMDAxNDg1NjEwNDkzNzg5.fxI75QwVJEc7awSh62miUXjfmlneYGstlAesJu_4-esg.l_WJd8JYm6r0MUz2vT1duyWQvwURPTmMuglVtH30g7Ig.JPEG.coollawyer72%2F2017012801002076100095391.jpg&type=sc960_832'"
      ],
      "metadata": {
        "id": "yXIoHm-faDMC"
      },
      "execution_count": null,
      "outputs": []
    },
    {
      "cell_type": "code",
      "source": [
        "urllib.request.urlretrieve(url, 'road_image.jpg')"
      ],
      "metadata": {
        "id": "ZTXAMykLaK2T"
      },
      "execution_count": null,
      "outputs": []
    },
    {
      "cell_type": "markdown",
      "source": [
        "이미지에서 객체 감지 수행\n",
        ":results = model('road_image.jpg')\n",
        "결과 시각화:\n",
        "img = cv2.imread('road_image.jpg')\n",
        "for r in results:\n",
        "    annotated_img = r.plot()\n",
        "cv2_imshow(annotated_img)\n",
        "YOLOv8은 COCO 데이터셋으로 사전 훈련되어 있어 80개의 다양한 클래스(사람, 자동차, 신호등 등 포함)를 감지할 수 있습니다. 따라서 별도의 훈련 없이도 이러한 객체들을 인식할 수 있습니다\n"
      ],
      "metadata": {
        "id": "5_f4SfBkaiu3"
      }
    },
    {
      "cell_type": "code",
      "source": [
        "results = model('road_image.jpg')\n",
        "#결과 시각화:\n",
        "img = cv2.imread('road_image.jpg')\n",
        "for r in results:\n",
        "    annotated_img = r.plot()\n",
        "cv2_imshow(annotated_img)"
      ],
      "metadata": {
        "id": "AqOgbXAMaqKt"
      },
      "execution_count": null,
      "outputs": []
    },
    {
      "cell_type": "code",
      "source": [
        "model = YOLO('yolov8x.pt')"
      ],
      "metadata": {
        "id": "sUMjEA8xblOD"
      },
      "execution_count": null,
      "outputs": []
    },
    {
      "cell_type": "code",
      "source": [
        "results = model('road_image.jpg')\n",
        "#결과 시각화:\n",
        "img = cv2.imread('road_image.jpg')\n",
        "for r in results:\n",
        "    annotated_img = r.plot()\n",
        "cv2_imshow(annotated_img)"
      ],
      "metadata": {
        "id": "ba3OVqGybql0"
      },
      "execution_count": null,
      "outputs": []
    },
    {
      "cell_type": "markdown",
      "source": [],
      "metadata": {
        "id": "s1UXjsj0Vya7"
      }
    }
  ]
}